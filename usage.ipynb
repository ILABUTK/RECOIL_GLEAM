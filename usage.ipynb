{
 "cells": [
  {
   "cell_type": "code",
   "execution_count": 3,
   "id": "fa18f2c5-9597-4dd4-b237-61b35ecaed24",
   "metadata": {},
   "outputs": [],
   "source": [
    "# import\n",
    "from GLEAM import GLEAM"
   ]
  },
  {
   "cell_type": "code",
   "execution_count": 3,
   "id": "d7ed708d-26b2-4c3e-976a-1d87fc9eb615",
   "metadata": {},
   "outputs": [
    {
     "name": "stdout",
     "output_type": "stream",
     "text": [
      "GHGs Emission: 1489.0 g/mile\n"
     ]
    }
   ],
   "source": [
    "# Example inputs for the function\n",
    "year = 2025\n",
    "mode = \"Long_Haul\"\n",
    "engine = \"CIDI\"\n",
    "fuel = \"Diesel\"\n",
    "# Call the function with the inputs\n",
    "GLEAM = GLEAM()\n",
    "ghg, unit = GLEAM.query(year, mode, engine, fuel)\n",
    "# print\n",
    "print(f\"GHGs Emission: {ghg} {unit}\")"
   ]
  },
  {
   "cell_type": "markdown",
   "id": "4d5b4c00-1f5c-459a-b9c2-03b91f995a26",
   "metadata": {},
   "source": [
    "## Metadata"
   ]
  },
  {
   "cell_type": "markdown",
   "id": "f4900f42-695d-4f9f-a84a-d06872f5c35d",
   "metadata": {},
   "source": [
    "# Metadata for the GHG Life-cycle  Emission Assessment Module (GLEAM)\n",
    "\n",
    "## Overview\n",
    "\n",
    "   This dataset provides information about greenhouse gas (GHG) emissions from different transportation modes, engine technologies, and fuel types. The data are extracted from GREET 2023rev1. The data includes the following keys:\n",
    " - `year`: 2025, 2030, 2035, 2040, 2045, and 2050.\n",
    " - `mode`: Describes the type of transportation.\n",
    " - `engine`: Specifies the technology used in the vehicle's engine.\n",
    " - `fuel`: Type of fuel used.\n",
    "\n",
    "   Each record contains two fields:\n",
    " - `GHG`: The greenhouse gas emissions associated with the fuel usage.\n",
    " - `Unit`: The unit of measurement for GHG emissions (e.g., g/miles, g/ton. miles, g/mm.Btu).\n",
    "\n",
    "## Data Content\n",
    "\n",
    "   The following keywords can be used to identify data from 2025-2050 with 5-year increments:\n",
    "   - `mode = Long_Haul`:\n",
    "     - `engine = CIDI`, available `fuel`: `Diesel`, `Biodiesel`, `Renewable-Diesel`, `DME`, and `LNG`.\n",
    "     - `engine = SL`, available `fuel`: `CNG` and `LNG`.\n",
    "     - `engine = Electric`, available `fuel`: `Electricity`.\n",
    "     - `engine = Co-Optimized`, available `fuel`: `Algae-HTL` and `Wastewater-Sludge-HTL`.\n",
    "     - `engine = MCCI`, available `fuel`: `Waste-Feedstock`.\n",
    "     - `engine = Fuel-Cell`, available `fuel`: `GH2`, `LH2`.\n",
    "   - `mode = Short_Haul`:\n",
    "     - `engine = CIDI`, available `fuel`: `Diesel`, `Biodiesel`, `Renewable-Diesel`, `DME`, and `LNG`.\n",
    "     - `engine = SL`, available `fuel`: `CNG` and `LNG`.\n",
    "     - `engine = Electric`, available `fuel`: `Electricity`.\n",
    "     - `engine = Fuel-Cell`, available `fuel`: `GH2`, `LH2`.\n",
    "   - `mode = Rail`:\n",
    "     - `engine`: `Diesel-Electric`, available `fuel`: `Diesel`, `LNG`, `LPG`, `DME`, `FTD`, `Biodiesel-20`, `Renewable-Diesel-II`, `Renewable-Gasoline`, `Gaseous-Hydrogen`, and `Electricity`.\n",
    "   - `mode = Marine`:\n",
    "     - `engine = HFO`, available `fuel`: `HFO-2.7`, `HFO-0.5`, and `HFO-0.1`.\n",
    "     - `engine = MDO`, available `fuel`: `MDO-1.92`, `MDO-0.5`, and `MDO-0.1`.\n",
    "     - `engine = MGO`, available `fuel`: `MGO-1`, `MGO-0.5`, and `MGO-0.1`.\n",
    "     - `engine = LNG`, available `fuel`: `LNG`.\n",
    "     - `engine = FTD`, available `fuel`: `Natural-Gas`, `Biomass-Coal`, `Biomass-Natural-Gas`, and `Biomass`.\n",
    "     - `engine = Renewable-Diesel`, available `fuel`: `Yellow-Grease-HFO` and `Yellow-Grease`.\n",
    "     - `engine = SVO`, available `fuel`: `SVO`.\n",
    "     - `engine = Bio-Oil`, available `fuel`: `Pyrolysis-Oil-Woody-Biomass`.\n",
    "     - `engine = Biodiesel`, available `fuel`: `Biodiesel`.\n",
    "     - `engine = MeOH`, available `fuel`: `Natural-Gas`, `Flare-Gas`, `Renewable-Natural-Gas`, and `Biomass`.\n",
    "\n",
    "## Units\n",
    "   - `g/miles`: For most road transportation modes (`Long_Haul` and `Short_Haul`).\n",
    "   - `g/ton.miles`: For `Rail` and `Marine` transportations.\n",
    "\n",
    "## Notes\n",
    "   - Negative GHG values indicate carbon savings or reductions.\n",
    "   - Please refer to the `GREET_Summary.pdf` document for detailed explanations about engine and fuel technologies.\n"
   ]
  },
  {
   "cell_type": "code",
   "execution_count": null,
   "id": "a0033804-97ba-4f5a-a217-0c2c11747e8b",
   "metadata": {},
   "outputs": [],
   "source": []
  }
 ],
 "metadata": {
  "kernelspec": {
   "display_name": "Python 3 (ipykernel)",
   "language": "python",
   "name": "python3"
  },
  "language_info": {
   "codemirror_mode": {
    "name": "ipython",
    "version": 3
   },
   "file_extension": ".py",
   "mimetype": "text/x-python",
   "name": "python",
   "nbconvert_exporter": "python",
   "pygments_lexer": "ipython3",
   "version": "3.10.12"
  }
 },
 "nbformat": 4,
 "nbformat_minor": 5
}
